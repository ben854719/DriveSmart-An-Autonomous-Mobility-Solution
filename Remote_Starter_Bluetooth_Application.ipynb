{
  "nbformat": 4,
  "nbformat_minor": 0,
  "metadata": {
    "colab": {
      "provenance": [],
      "gpuType": "T4",
      "cell_execution_strategy": "setup",
      "authorship_tag": "ABX9TyOGXDKYZIhCSZi9KDcoJkgr",
      "include_colab_link": true
    },
    "kernelspec": {
      "name": "python3",
      "display_name": "Python 3"
    },
    "language_info": {
      "name": "python"
    },
    "accelerator": "GPU"
  },
  "cells": [
    {
      "cell_type": "markdown",
      "metadata": {
        "id": "view-in-github",
        "colab_type": "text"
      },
      "source": [
        "<a href=\"https://colab.research.google.com/github/ben854719/DriveSmart-An-Autonomous-Mobility-Solution/blob/main/Remote_Starter_Bluetooth_Application.ipynb\" target=\"_parent\"><img src=\"https://colab.research.google.com/assets/colab-badge.svg\" alt=\"Open In Colab\"/></a>"
      ]
    },
    {
      "cell_type": "code",
      "source": [
        "import socket\n",
        "\n",
        "# Replace with your actual IP address and port\n",
        "TARGET_HOST = '192.168.1.100'\n",
        "TARGET_PORT = 12345\n",
        "\n",
        "try:\n",
        "    client_socket = socket.socket(socket.AF_INET, socket.SOCK_STREAM)\n",
        "    client_socket.connect((TARGET_HOST, TARGET_PORT))\n",
        "\n",
        "    message = \"Hello from Colab!\"\n",
        "    client_socket.sendall(message.encode())\n",
        "\n",
        "    # Optional: receive response\n",
        "    response = client_socket.recv(1024)\n",
        "    print(\"Received:\", response.decode())\n",
        "\n",
        "    client_socket.close()\n",
        "except Exception as e:\n",
        "    print(f\"Connection error: {e}\")\n"
      ],
      "metadata": {
        "colab": {
          "base_uri": "https://localhost:8080/"
        },
        "id": "HYfqZ4KAvj1W",
        "outputId": "bd6c833f-f296-4561-ce28-fc691c244aba"
      },
      "execution_count": 1,
      "outputs": [
        {
          "output_type": "stream",
          "name": "stdout",
          "text": [
            "Connection error: [Errno 110] Connection timed out\n"
          ]
        }
      ]
    },
    {
      "cell_type": "code",
      "source": [
        "!sudo apt-get install bluetooth libbluetooth-dev"
      ],
      "metadata": {
        "colab": {
          "base_uri": "https://localhost:8080/"
        },
        "collapsed": true,
        "id": "TrgiBb4qzuMc",
        "outputId": "307ad314-a0e9-4c89-c568-8f5f724ece75"
      },
      "execution_count": 3,
      "outputs": [
        {
          "output_type": "stream",
          "name": "stdout",
          "text": [
            "Reading package lists... Done\n",
            "Building dependency tree... Done\n",
            "Reading state information... Done\n",
            "The following additional packages will be installed:\n",
            "  bluez libbluetooth3 libudev1 systemd-hwe-hwdb udev\n",
            "Suggested packages:\n",
            "  bluez-cups bluez-obexd bluez-meshd pulseaudio-module-bluetooth\n",
            "The following NEW packages will be installed:\n",
            "  bluetooth bluez libbluetooth-dev libbluetooth3 systemd-hwe-hwdb udev\n",
            "The following packages will be upgraded:\n",
            "  libudev1\n",
            "1 upgraded, 6 newly installed, 0 to remove and 34 not upgraded.\n",
            "Need to get 3,087 kB of archives.\n",
            "After this operation, 14.7 MB of additional disk space will be used.\n",
            "Get:1 http://archive.ubuntu.com/ubuntu jammy-updates/main amd64 libudev1 amd64 249.11-0ubuntu3.16 [76.7 kB]\n",
            "Get:2 http://archive.ubuntu.com/ubuntu jammy-updates/main amd64 udev amd64 249.11-0ubuntu3.16 [1,557 kB]\n",
            "Get:3 http://archive.ubuntu.com/ubuntu jammy-updates/main amd64 bluez amd64 5.64-0ubuntu1.4 [1,106 kB]\n",
            "Get:4 http://archive.ubuntu.com/ubuntu jammy-updates/universe amd64 bluetooth all 5.64-0ubuntu1.4 [2,994 B]\n",
            "Get:5 http://archive.ubuntu.com/ubuntu jammy-updates/main amd64 libbluetooth3 amd64 5.64-0ubuntu1.4 [86.7 kB]\n",
            "Get:6 http://archive.ubuntu.com/ubuntu jammy-updates/main amd64 systemd-hwe-hwdb all 249.11.5 [3,228 B]\n",
            "Get:7 http://archive.ubuntu.com/ubuntu jammy-updates/main amd64 libbluetooth-dev amd64 5.64-0ubuntu1.4 [254 kB]\n",
            "Fetched 3,087 kB in 4s (867 kB/s)\n",
            "debconf: unable to initialize frontend: Dialog\n",
            "debconf: (No usable dialog-like program is installed, so the dialog based frontend cannot be used. at /usr/share/perl5/Debconf/FrontEnd/Dialog.pm line 78, <> line 7.)\n",
            "debconf: falling back to frontend: Readline\n",
            "debconf: unable to initialize frontend: Readline\n",
            "debconf: (This frontend requires a controlling tty.)\n",
            "debconf: falling back to frontend: Teletype\n",
            "dpkg-preconfigure: unable to re-open stdin: \n",
            "(Reading database ... 126284 files and directories currently installed.)\n",
            "Preparing to unpack .../libudev1_249.11-0ubuntu3.16_amd64.deb ...\n",
            "Unpacking libudev1:amd64 (249.11-0ubuntu3.16) over (249.11-0ubuntu3.12) ...\n",
            "Setting up libudev1:amd64 (249.11-0ubuntu3.16) ...\n",
            "Selecting previously unselected package udev.\n",
            "(Reading database ... 126284 files and directories currently installed.)\n",
            "Preparing to unpack .../0-udev_249.11-0ubuntu3.16_amd64.deb ...\n",
            "Unpacking udev (249.11-0ubuntu3.16) ...\n",
            "Selecting previously unselected package bluez.\n",
            "Preparing to unpack .../1-bluez_5.64-0ubuntu1.4_amd64.deb ...\n",
            "Unpacking bluez (5.64-0ubuntu1.4) ...\n",
            "Selecting previously unselected package bluetooth.\n",
            "Preparing to unpack .../2-bluetooth_5.64-0ubuntu1.4_all.deb ...\n",
            "Unpacking bluetooth (5.64-0ubuntu1.4) ...\n",
            "Selecting previously unselected package libbluetooth3:amd64.\n",
            "Preparing to unpack .../3-libbluetooth3_5.64-0ubuntu1.4_amd64.deb ...\n",
            "Unpacking libbluetooth3:amd64 (5.64-0ubuntu1.4) ...\n",
            "Selecting previously unselected package systemd-hwe-hwdb.\n",
            "Preparing to unpack .../4-systemd-hwe-hwdb_249.11.5_all.deb ...\n",
            "Unpacking systemd-hwe-hwdb (249.11.5) ...\n",
            "Selecting previously unselected package libbluetooth-dev:amd64.\n",
            "Preparing to unpack .../5-libbluetooth-dev_5.64-0ubuntu1.4_amd64.deb ...\n",
            "Unpacking libbluetooth-dev:amd64 (5.64-0ubuntu1.4) ...\n",
            "Setting up udev (249.11-0ubuntu3.16) ...\n",
            "invoke-rc.d: could not determine current runlevel\n",
            "invoke-rc.d: policy-rc.d denied execution of start.\n",
            "Setting up systemd-hwe-hwdb (249.11.5) ...\n",
            "Setting up libbluetooth3:amd64 (5.64-0ubuntu1.4) ...\n",
            "Setting up bluez (5.64-0ubuntu1.4) ...\n",
            "invoke-rc.d: could not determine current runlevel\n",
            "invoke-rc.d: policy-rc.d denied execution of force-reload.\n",
            "Created symlink /etc/systemd/system/dbus-org.bluez.service → /lib/systemd/system/bluetooth.service.\n",
            "Created symlink /etc/systemd/system/bluetooth.target.wants/bluetooth.service → /lib/systemd/system/bluetooth.service.\n",
            "invoke-rc.d: could not determine current runlevel\n",
            "invoke-rc.d: policy-rc.d denied execution of start.\n",
            "Setting up libbluetooth-dev:amd64 (5.64-0ubuntu1.4) ...\n",
            "Setting up bluetooth (5.64-0ubuntu1.4) ...\n",
            "Processing triggers for man-db (2.10.2-1) ...\n",
            "Processing triggers for dbus (1.12.20-2ubuntu4.1) ...\n",
            "Processing triggers for libc-bin (2.35-0ubuntu3.8) ...\n",
            "/sbin/ldconfig.real: /usr/local/lib/libtcm.so.1 is not a symbolic link\n",
            "\n",
            "/sbin/ldconfig.real: /usr/local/lib/libhwloc.so.15 is not a symbolic link\n",
            "\n",
            "/sbin/ldconfig.real: /usr/local/lib/libtcm_debug.so.1 is not a symbolic link\n",
            "\n",
            "/sbin/ldconfig.real: /usr/local/lib/libtbbmalloc_proxy.so.2 is not a symbolic link\n",
            "\n",
            "/sbin/ldconfig.real: /usr/local/lib/libtbb.so.12 is not a symbolic link\n",
            "\n",
            "/sbin/ldconfig.real: /usr/local/lib/libur_adapter_level_zero_v2.so.0 is not a symbolic link\n",
            "\n",
            "/sbin/ldconfig.real: /usr/local/lib/libumf.so.0 is not a symbolic link\n",
            "\n",
            "/sbin/ldconfig.real: /usr/local/lib/libtbbbind.so.3 is not a symbolic link\n",
            "\n",
            "/sbin/ldconfig.real: /usr/local/lib/libtbbbind_2_0.so.3 is not a symbolic link\n",
            "\n",
            "/sbin/ldconfig.real: /usr/local/lib/libtbbbind_2_5.so.3 is not a symbolic link\n",
            "\n",
            "/sbin/ldconfig.real: /usr/local/lib/libur_adapter_level_zero.so.0 is not a symbolic link\n",
            "\n",
            "/sbin/ldconfig.real: /usr/local/lib/libur_loader.so.0 is not a symbolic link\n",
            "\n",
            "/sbin/ldconfig.real: /usr/local/lib/libur_adapter_opencl.so.0 is not a symbolic link\n",
            "\n",
            "/sbin/ldconfig.real: /usr/local/lib/libtbbmalloc.so.2 is not a symbolic link\n",
            "\n"
          ]
        }
      ]
    },
    {
      "cell_type": "code",
      "metadata": {
        "colab": {
          "base_uri": "https://localhost:8080/"
        },
        "id": "f9700539",
        "outputId": "12ef0e6b-0970-47d2-aedc-a15d6191ad82",
        "collapsed": true
      },
      "source": [
        "!pip install bleak"
      ],
      "execution_count": 4,
      "outputs": [
        {
          "output_type": "stream",
          "name": "stdout",
          "text": [
            "Collecting bleak\n",
            "  Downloading bleak-1.0.1-py3-none-any.whl.metadata (5.0 kB)\n",
            "Collecting dbus-fast>=1.83.0 (from bleak)\n",
            "  Downloading dbus_fast-2.44.3-cp311-cp311-manylinux_2_17_x86_64.manylinux2014_x86_64.whl.metadata (10 kB)\n",
            "Requirement already satisfied: typing-extensions>=4.7.0 in /usr/local/lib/python3.11/dist-packages (from bleak) (4.14.1)\n",
            "Downloading bleak-1.0.1-py3-none-any.whl (135 kB)\n",
            "\u001b[2K   \u001b[90m━━━━━━━━━━━━━━━━━━━━━━━━━━━━━━━━━━━━━━━━\u001b[0m \u001b[32m135.3/135.3 kB\u001b[0m \u001b[31m6.0 MB/s\u001b[0m eta \u001b[36m0:00:00\u001b[0m\n",
            "\u001b[?25hDownloading dbus_fast-2.44.3-cp311-cp311-manylinux_2_17_x86_64.manylinux2014_x86_64.whl (927 kB)\n",
            "\u001b[2K   \u001b[90m━━━━━━━━━━━━━━━━━━━━━━━━━━━━━━━━━━━━━━━━\u001b[0m \u001b[32m927.3/927.3 kB\u001b[0m \u001b[31m30.4 MB/s\u001b[0m eta \u001b[36m0:00:00\u001b[0m\n",
            "\u001b[?25hInstalling collected packages: dbus-fast, bleak\n",
            "Successfully installed bleak-1.0.1 dbus-fast-2.44.3\n"
          ]
        }
      ]
    },
    {
      "cell_type": "code",
      "source": [
        "from unittest import mock\n",
        "import asyncio\n",
        "from bleak import BleakScanner\n",
        "\n",
        "# Fake device data\n",
        "fake_devices = [\n",
        "    mock.Mock(name=\"Device1\", address=\"AA:BB:CC:DD:EE:FF\"),\n",
        "    mock.Mock(name=\"Device2\", address=\"11:22:33:44:55:66\"),\n",
        "]\n",
        "\n",
        "# Patch the discover method\n",
        "@mock.patch('bleak.BleakScanner.discover', return_value=fake_devices)\n",
        "def test_bluetooth_scan(mock_discover):\n",
        "    devices = asyncio.run(BleakScanner.discover())\n",
        "    for d in devices:\n",
        "        print(f\"Found device: {d.name} @ {d.address}\")"
      ],
      "metadata": {
        "id": "oPdl2n560oWh"
      },
      "execution_count": 5,
      "outputs": []
    },
    {
      "cell_type": "code",
      "source": [
        "from bleak import BleakClient\n",
        "\n",
        "async def send_command(address, command):\n",
        "    async with BleakClient(address) as client:\n",
        "        await client.write_gatt_char(\"command-char-uuid\", command.encode())"
      ],
      "metadata": {
        "id": "RnzjrjA4Eskv"
      },
      "execution_count": 6,
      "outputs": []
    },
    {
      "cell_type": "code",
      "source": [
        "from unittest.mock import patch, AsyncMock\n",
        "from unittest import mock\n",
        "\n",
        "@patch('your_module.BleakClient', new_callable=AsyncMock)\n",
        "def test_failed_write(self, mock_client_class):\n",
        "    mock_client = mock_client_class.return_value.__aenter__.return_value\n",
        "\n",
        "    # Simulate write_gatt_char throwing an exception\n",
        "    mock_client.write_gatt_char.side_effect = Exception(\"Write failed\")\n",
        "\n",
        "    address = \"AA:BB:CC:DD:EE:FF\"\n",
        "    command = \"STOP\"\n",
        "\n",
        "    import asyncio\n",
        "    with self.assertRaises(Exception) as context:\n",
        "        asyncio.run(send_command(address, command))\n",
        "\n",
        "    self.assertEqual(str(context.exception), \"Write failed\")"
      ],
      "metadata": {
        "id": "H8Nx3E7TFQum"
      },
      "execution_count": 8,
      "outputs": []
    },
    {
      "cell_type": "code",
      "source": [
        "from bleak import BleakScanner\n",
        "\n",
        "async def find_target_device(target_name):\n",
        "    devices = await BleakScanner.discover()\n",
        "    for d in devices:\n",
        "        if d.name == target_name:\n",
        "            return d.address\n",
        "    return None"
      ],
      "metadata": {
        "id": "3vQctmSYGP2P"
      },
      "execution_count": 9,
      "outputs": []
    },
    {
      "cell_type": "code",
      "metadata": {
        "colab": {
          "base_uri": "https://localhost:8080/"
        },
        "id": "PuOKYS_HGRcQ",
        "outputId": "2442f9ee-6746-4ff1-cd6c-7cb8bf031a5a"
      },
      "source": [
        "import unittest\n",
        "from unittest.mock import patch, Mock\n",
        "import asyncio\n",
        "from bleak import BleakScanner\n",
        "import nest_asyncio\n",
        "\n",
        "# Apply nest_asyncio to allow nested event loops\n",
        "nest_asyncio.apply()\n",
        "\n",
        "# The find_target_device function is defined in a previous cell,\n",
        "# so we don't need to import it from a module.\n",
        "\n",
        "class TestBluetoothScanner(unittest.TestCase):\n",
        "    @patch('bleak.BleakScanner.discover')\n",
        "    async def test_device_found(self, mock_discover):\n",
        "        # Configure the mock object to return the desired name and address\n",
        "        fake_device = Mock()\n",
        "        fake_device.configure_mock(name=\"MyDevice\", address=\"DE:AD:BE:EF:00:01\")\n",
        "        mock_discover.return_value = [fake_device]\n",
        "\n",
        "        address = await find_target_device(\"MyDevice\")\n",
        "        self.assertEqual(address, \"DE:AD:BE:EF:00:01\")\n",
        "\n",
        "    @patch('bleak.BleakScanner.discover')\n",
        "    async def test_device_not_found(self, mock_discover):\n",
        "        mock_discover.return_value = []\n",
        "\n",
        "        address = await find_target_device(\"GhostDevice\")\n",
        "        self.assertIsNone(address)\n",
        "\n",
        "# Run the tests manually\n",
        "if __name__ == '__main__':\n",
        "    tests = TestBluetoothScanner()\n",
        "    print(\"Running test_device_found...\")\n",
        "    asyncio.run(tests.test_device_found())\n",
        "    print(\"Running test_device_not_found...\")\n",
        "    asyncio.run(tests.test_device_not_found())"
      ],
      "execution_count": 20,
      "outputs": [
        {
          "output_type": "stream",
          "name": "stdout",
          "text": [
            "Running test_device_found...\n",
            "Running test_device_not_found...\n"
          ]
        }
      ]
    }
  ]
}